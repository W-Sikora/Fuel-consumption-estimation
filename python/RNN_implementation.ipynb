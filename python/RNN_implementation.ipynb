{
 "cells": [
  {
   "cell_type": "markdown",
   "metadata": {},
   "source": [
    "# Instantaneous vehicle fuel consumption estimation using smartphones and recurrent neural networks\n",
    "References:\n",
    "* Kanarachos S., Mathew J., Fitzpatrick M. E. **Instantaneous vehicle fuel consumption estimation using smartphones and recurrent neural networks**. _Expert Systems With Applications 120 (2019) 436–447_ https://www.sciencedirect.com/science/article/pii/S0957417418307681?via%3Dihub"
   ]
  },
  {
   "cell_type": "code",
   "execution_count": 68,
   "metadata": {
    "scrolled": true
   },
   "outputs": [],
   "source": [
    "import sys\n",
    "import sqlite3\n",
    "import tensorflow.keras\n",
    "import pandas as pd\n",
    "import numpy as np\n",
    "import matplotlib.pyplot as plt\n",
    "from tensorflow.keras.models import Sequential\n",
    "from tensorflow.keras.layers import Dense, LSTM\n",
    "from tensorflow.keras.models import Sequential\n",
    "from sklearn.metrics import mean_absolute_error"
   ]
  },
  {
   "cell_type": "code",
   "execution_count": 69,
   "metadata": {},
   "outputs": [],
   "source": [
    "def get_data(size=None):\n",
    "    date_previous, date_current, distance, speed, fuel_consumption =  ([] for i in range(5))\n",
    "    try:\n",
    "        database_name = '../data.db'\n",
    "        sqliteConnection = sqlite3.connect(database_name)\n",
    "        cursor = sqliteConnection.cursor()\n",
    "        cursor.execute('''select date_previous, date_current, distance, speed, fuel_consumption from data''')\n",
    "        if isinstance(size, int):\n",
    "            records = cursor.fetchmany(size)\n",
    "        else:\n",
    "            records = cursor.fetchall()\n",
    "        for row in records:\n",
    "            date_previous.append(row[0])\n",
    "            date_current.append(row[1])\n",
    "            distance.append(row[2])\n",
    "            speed.append(row[3])\n",
    "            fuel_consumption.append(row[4])\n",
    "        cursor.close()\n",
    "        sqliteConnection.close()\n",
    "\n",
    "    except sqlite3.Error as error:\n",
    "        print('Failed to read data from sqlite table', error)\n",
    "\n",
    "    return date_previous, date_current, distance, speed, fuel_consumption\n",
    "\n",
    "    \n",
    "def get_part_of_data(data, _from, to):\n",
    "    inputs = np.array(data['speed'][_from:to])\n",
    "    outputs = np.array(data['fuel consumption'][_from:to])\n",
    "    return inputs, outputs\n",
    "\n",
    "\n",
    "def divide_into_parts(inputs, outputs, train_part):\n",
    "    length = inputs.shape[0]\n",
    "    train_part *= length\n",
    "    validation_part = train_part + (length - train_part)   \n",
    "    \n",
    "    train_array = [inputs[: int(train_part)],\n",
    "                   outputs[: int(train_part)]]\n",
    "    \n",
    "    validation_array = [inputs[int(train_part) : int(validation_part)],\n",
    "                        outputs[int(train_part) : int(validation_part)]]\n",
    "        \n",
    "    return train_array, validation_array\n",
    "\n",
    "\n",
    "def transform(array):\n",
    "    return array.reshape(array.shape[0], 1, 1)\n",
    "\n",
    "\n",
    "def transform_to_list(array):\n",
    "    return array.reshape(array.shape[0])\n",
    "\n",
    "        \n",
    "def statistics(real, predict):\n",
    "    print(f'mean absolute error: {mean_absolute_error(np.array(real), np.array(predict))}')\n",
    "\n",
    "    \n",
    "def calculate_fuel_consumption(v):\n",
    "    \"\"\"\n",
    "    engine: 1.4L - 2.0L\n",
    "    Car class: Euro I - IV\n",
    "    -----------------------\n",
    "    v: car speed [km/h]\n",
    "    FC: fuel consumption [l/100 km]\n",
    "    \"\"\"\n",
    "    if v == 0:\n",
    "        fuel_consumption = 0\n",
    "    elif v > 13.1:\n",
    "        fuel_consumption = 135.44 - 2.314 * v + 0.0144 * v ** 2\n",
    "    else:\n",
    "        fuel_consumption = 428.06 - 46.696 * v + 1.531 * v ** 2\n",
    "    fuel_consumption = fuel_consumption / 10  # conversion of units [g/km] -> [kg/100km]\n",
    "    fuel_consumption = fuel_consumption / 0.8  # conversion of units  kg -> litres\n",
    "    return fuel_consumption\n",
    "\n",
    "\n",
    "def plot_hist(data, title):\n",
    "    plt.figure(figsize=(10,6))\n",
    "    plt.hist(data, rwidth=0.91)\n",
    "    plt.title(title)\n",
    "    plt.show()\n",
    "    \n",
    "    \n",
    "def plot_part_of_data(data, title, _from, to):\n",
    "    plt.figure(figsize=(10,6))\n",
    "    plt.plot(data[_from:to], color='blue', marker='.', alpha=0.5, linestyle='None')\n",
    "    plt.title(title)\n",
    "    plt.show()\n",
    "    \n",
    "    \n",
    "def plot_result(x, y_real, y_predict):\n",
    "    plt.figure(figsize=(15,9))\n",
    "    plt.plot(x, y_real, color='red', alpha=0.5, marker='.', linestyle='None', label='rzeczywiste')\n",
    "    plt.plot(x, y_predict, color='blue', alpha=0.5, marker='.', linestyle='None', label='przewidywane')\n",
    "    plt.plot(x, np.zeros(len(x)), color='black')\n",
    "    plt.legend()\n",
    "    plt.show()    "
   ]
  },
  {
   "cell_type": "markdown",
   "metadata": {},
   "source": [
    "## reading data from the database"
   ]
  },
  {
   "cell_type": "code",
   "execution_count": 25,
   "metadata": {},
   "outputs": [],
   "source": [
    "data = get_data(1000000)"
   ]
  },
  {
   "cell_type": "markdown",
   "metadata": {},
   "source": [
    "## creating Pandas DataFrame"
   ]
  },
  {
   "cell_type": "code",
   "execution_count": 26,
   "metadata": {},
   "outputs": [],
   "source": [
    "data = pd.DataFrame({'date previous':data[0],\n",
    "                     'date current':data[1],\n",
    "                     'distance':data[2],\n",
    "                     'speed':data[3],\n",
    "                     'fuel consumption':data[4]})"
   ]
  },
  {
   "cell_type": "code",
   "execution_count": 27,
   "metadata": {},
   "outputs": [
    {
     "data": {
      "text/html": [
       "<div>\n",
       "<style scoped>\n",
       "    .dataframe tbody tr th:only-of-type {\n",
       "        vertical-align: middle;\n",
       "    }\n",
       "\n",
       "    .dataframe tbody tr th {\n",
       "        vertical-align: top;\n",
       "    }\n",
       "\n",
       "    .dataframe thead th {\n",
       "        text-align: right;\n",
       "    }\n",
       "</style>\n",
       "<table border=\"1\" class=\"dataframe\">\n",
       "  <thead>\n",
       "    <tr style=\"text-align: right;\">\n",
       "      <th></th>\n",
       "      <th>date previous</th>\n",
       "      <th>date current</th>\n",
       "      <th>distance</th>\n",
       "      <th>speed</th>\n",
       "      <th>fuel consumption</th>\n",
       "    </tr>\n",
       "  </thead>\n",
       "  <tbody>\n",
       "    <tr>\n",
       "      <th>0</th>\n",
       "      <td>2008-02-02 15:36:08</td>\n",
       "      <td>2008-02-02 15:36:38</td>\n",
       "      <td>0.097864</td>\n",
       "      <td>11.743710</td>\n",
       "      <td>11.352895</td>\n",
       "    </tr>\n",
       "    <tr>\n",
       "      <th>1</th>\n",
       "      <td>2008-02-02 15:36:38</td>\n",
       "      <td>2008-02-02 15:37:08</td>\n",
       "      <td>0.097766</td>\n",
       "      <td>11.731966</td>\n",
       "      <td>11.368683</td>\n",
       "    </tr>\n",
       "    <tr>\n",
       "      <th>2</th>\n",
       "      <td>2008-02-02 15:37:08</td>\n",
       "      <td>2008-02-02 15:37:38</td>\n",
       "      <td>0.099047</td>\n",
       "      <td>11.885646</td>\n",
       "      <td>11.166259</td>\n",
       "    </tr>\n",
       "    <tr>\n",
       "      <th>3</th>\n",
       "      <td>2008-02-02 15:37:38</td>\n",
       "      <td>2008-02-02 15:38:08</td>\n",
       "      <td>0.100298</td>\n",
       "      <td>12.035758</td>\n",
       "      <td>10.977262</td>\n",
       "    </tr>\n",
       "    <tr>\n",
       "      <th>4</th>\n",
       "      <td>2008-02-02 15:38:08</td>\n",
       "      <td>2008-02-02 15:38:38</td>\n",
       "      <td>0.101520</td>\n",
       "      <td>12.182383</td>\n",
       "      <td>10.800981</td>\n",
       "    </tr>\n",
       "    <tr>\n",
       "      <th>...</th>\n",
       "      <td>...</td>\n",
       "      <td>...</td>\n",
       "      <td>...</td>\n",
       "      <td>...</td>\n",
       "      <td>...</td>\n",
       "    </tr>\n",
       "    <tr>\n",
       "      <th>95</th>\n",
       "      <td>2008-02-02 15:41:38</td>\n",
       "      <td>2008-02-02 15:42:08</td>\n",
       "      <td>0.091682</td>\n",
       "      <td>11.001801</td>\n",
       "      <td>12.453947</td>\n",
       "    </tr>\n",
       "    <tr>\n",
       "      <th>96</th>\n",
       "      <td>2008-02-02 15:42:08</td>\n",
       "      <td>2008-02-02 15:42:38</td>\n",
       "      <td>0.091051</td>\n",
       "      <td>10.926087</td>\n",
       "      <td>12.578158</td>\n",
       "    </tr>\n",
       "    <tr>\n",
       "      <th>97</th>\n",
       "      <td>2008-02-02 15:42:38</td>\n",
       "      <td>2008-02-02 15:43:08</td>\n",
       "      <td>0.090434</td>\n",
       "      <td>10.852132</td>\n",
       "      <td>12.701603</td>\n",
       "    </tr>\n",
       "    <tr>\n",
       "      <th>98</th>\n",
       "      <td>2008-02-02 15:43:08</td>\n",
       "      <td>2008-02-02 15:43:38</td>\n",
       "      <td>0.089832</td>\n",
       "      <td>10.779895</td>\n",
       "      <td>12.824203</td>\n",
       "    </tr>\n",
       "    <tr>\n",
       "      <th>99</th>\n",
       "      <td>2008-02-02 15:43:38</td>\n",
       "      <td>2008-02-02 15:44:08</td>\n",
       "      <td>0.089244</td>\n",
       "      <td>10.709334</td>\n",
       "      <td>12.945884</td>\n",
       "    </tr>\n",
       "  </tbody>\n",
       "</table>\n",
       "<p>100 rows × 5 columns</p>\n",
       "</div>"
      ],
      "text/plain": [
       "          date previous         date current  distance      speed  \\\n",
       "0   2008-02-02 15:36:08  2008-02-02 15:36:38  0.097864  11.743710   \n",
       "1   2008-02-02 15:36:38  2008-02-02 15:37:08  0.097766  11.731966   \n",
       "2   2008-02-02 15:37:08  2008-02-02 15:37:38  0.099047  11.885646   \n",
       "3   2008-02-02 15:37:38  2008-02-02 15:38:08  0.100298  12.035758   \n",
       "4   2008-02-02 15:38:08  2008-02-02 15:38:38  0.101520  12.182383   \n",
       "..                  ...                  ...       ...        ...   \n",
       "95  2008-02-02 15:41:38  2008-02-02 15:42:08  0.091682  11.001801   \n",
       "96  2008-02-02 15:42:08  2008-02-02 15:42:38  0.091051  10.926087   \n",
       "97  2008-02-02 15:42:38  2008-02-02 15:43:08  0.090434  10.852132   \n",
       "98  2008-02-02 15:43:08  2008-02-02 15:43:38  0.089832  10.779895   \n",
       "99  2008-02-02 15:43:38  2008-02-02 15:44:08  0.089244  10.709334   \n",
       "\n",
       "    fuel consumption  \n",
       "0          11.352895  \n",
       "1          11.368683  \n",
       "2          11.166259  \n",
       "3          10.977262  \n",
       "4          10.800981  \n",
       "..               ...  \n",
       "95         12.453947  \n",
       "96         12.578158  \n",
       "97         12.701603  \n",
       "98         12.824203  \n",
       "99         12.945884  \n",
       "\n",
       "[100 rows x 5 columns]"
      ]
     },
     "execution_count": 27,
     "metadata": {},
     "output_type": "execute_result"
    }
   ],
   "source": [
    "data.head(100)"
   ]
  },
  {
   "cell_type": "markdown",
   "metadata": {},
   "source": [
    "## statistics"
   ]
  },
  {
   "cell_type": "code",
   "execution_count": 28,
   "metadata": {},
   "outputs": [
    {
     "data": {
      "text/html": [
       "<div>\n",
       "<style scoped>\n",
       "    .dataframe tbody tr th:only-of-type {\n",
       "        vertical-align: middle;\n",
       "    }\n",
       "\n",
       "    .dataframe tbody tr th {\n",
       "        vertical-align: top;\n",
       "    }\n",
       "\n",
       "    .dataframe thead th {\n",
       "        text-align: right;\n",
       "    }\n",
       "</style>\n",
       "<table border=\"1\" class=\"dataframe\">\n",
       "  <thead>\n",
       "    <tr style=\"text-align: right;\">\n",
       "      <th></th>\n",
       "      <th>distance</th>\n",
       "      <th>speed</th>\n",
       "      <th>fuel consumption</th>\n",
       "    </tr>\n",
       "  </thead>\n",
       "  <tbody>\n",
       "    <tr>\n",
       "      <th>count</th>\n",
       "      <td>1000000.000000</td>\n",
       "      <td>1000000.000000</td>\n",
       "      <td>1000000.000000</td>\n",
       "    </tr>\n",
       "    <tr>\n",
       "      <th>mean</th>\n",
       "      <td>0.107886</td>\n",
       "      <td>12.946343</td>\n",
       "      <td>22.442683</td>\n",
       "    </tr>\n",
       "    <tr>\n",
       "      <th>std</th>\n",
       "      <td>0.129975</td>\n",
       "      <td>15.596952</td>\n",
       "      <td>18.435552</td>\n",
       "    </tr>\n",
       "    <tr>\n",
       "      <th>min</th>\n",
       "      <td>0.000000</td>\n",
       "      <td>0.000000</td>\n",
       "      <td>0.000000</td>\n",
       "    </tr>\n",
       "    <tr>\n",
       "      <th>25%</th>\n",
       "      <td>0.001265</td>\n",
       "      <td>0.151799</td>\n",
       "      <td>10.153780</td>\n",
       "    </tr>\n",
       "    <tr>\n",
       "      <th>50%</th>\n",
       "      <td>0.071091</td>\n",
       "      <td>8.530978</td>\n",
       "      <td>12.917241</td>\n",
       "    </tr>\n",
       "    <tr>\n",
       "      <th>75%</th>\n",
       "      <td>0.161200</td>\n",
       "      <td>19.343972</td>\n",
       "      <td>40.598003</td>\n",
       "    </tr>\n",
       "    <tr>\n",
       "      <th>max</th>\n",
       "      <td>1.079671</td>\n",
       "      <td>129.560565</td>\n",
       "      <td>53.507500</td>\n",
       "    </tr>\n",
       "  </tbody>\n",
       "</table>\n",
       "</div>"
      ],
      "text/plain": [
       "             distance           speed  fuel consumption\n",
       "count  1000000.000000  1000000.000000    1000000.000000\n",
       "mean         0.107886       12.946343         22.442683\n",
       "std          0.129975       15.596952         18.435552\n",
       "min          0.000000        0.000000          0.000000\n",
       "25%          0.001265        0.151799         10.153780\n",
       "50%          0.071091        8.530978         12.917241\n",
       "75%          0.161200       19.343972         40.598003\n",
       "max          1.079671      129.560565         53.507500"
      ]
     },
     "execution_count": 28,
     "metadata": {},
     "output_type": "execute_result"
    }
   ],
   "source": [
    "data.describe()"
   ]
  },
  {
   "cell_type": "code",
   "execution_count": 58,
   "metadata": {},
   "outputs": [],
   "source": [
    "_from, to = 200, 599"
   ]
  },
  {
   "cell_type": "code",
   "execution_count": 60,
   "metadata": {},
   "outputs": [
    {
     "data": {
      "image/png": "[encoded data removed]",
      "text/plain": [
       "<Figure size 720x432 with 1 Axes>"
      ]
     },
     "metadata": {
      "needs_background": "light"
     },
     "output_type": "display_data"
    },
    {
     "data": {
      "image/png": "[encoded data removed]",
      "text/plain": [
       "<Figure size 720x432 with 1 Axes>"
      ]
     },
     "metadata": {
      "needs_background": "light"
     },
     "output_type": "display_data"
    },
    {
     "data": {
      "image/png": "[encoded data removed]",
      "text/plain": [
       "<Figure size 720x432 with 1 Axes>"
      ]
     },
     "metadata": {
      "needs_background": "light"
     },
     "output_type": "display_data"
    },
    {
     "data": {
      "image/png": "[encoded data removed]",
      "text/plain": [
       "<Figure size 720x432 with 1 Axes>"
      ]
     },
     "metadata": {
      "needs_background": "light"
     },
     "output_type": "display_data"
    }
   ],
   "source": [
    "speed, fuel_consumption = data['speed'], data['fuel consumption']\n",
    "\n",
    "plot_hist(speed, 'speed')\n",
    "plot_part_of_data(speed, 'speed change', _from, to)\n",
    "\n",
    "plot_hist(fuel_consumption, 'fuel consumption')\n",
    "plot_part_of_data(fuel_consumption, 'fuel consumption change', _from, to)"
   ]
  },
  {
   "cell_type": "markdown",
   "metadata": {},
   "source": [
    "## data preparation"
   ]
  },
  {
   "cell_type": "code",
   "execution_count": 30,
   "metadata": {},
   "outputs": [],
   "source": [
    "train, validation = divide_into_parts(get_part_of_data(data, 0, 900000)[0], get_part_of_data(data, 0, 900000)[1], 0.8)\n",
    "\n",
    "test = get_part_of_data(data, 900000, 1000000)\n",
    "\n",
    "train_inputs = transform(train[0])\n",
    "validation_inputs = transform(validation[0])\n",
    "test_inputs = transform(test[0])\n",
    "\n",
    "train_outputs = train[1]\n",
    "validation_outputs = validation[1]\n",
    "test_outputs = test[1]"
   ]
  },
  {
   "cell_type": "markdown",
   "metadata": {},
   "source": [
    "## construction of recurrent neural network\n",
    "References:\n",
    "* https://stackabuse.com/solving-sequence-problems-with-lstm-in-keras/"
   ]
  },
  {
   "cell_type": "code",
   "execution_count": 31,
   "metadata": {},
   "outputs": [
    {
     "name": "stdout",
     "output_type": "stream",
     "text": [
      "Model: \"sequential_1\"\n",
      "_________________________________________________________________\n",
      "Layer (type)                 Output Shape              Param #   \n",
      "=================================================================\n",
      "lstm_1 (LSTM)                (None, 50)                10400     \n",
      "_________________________________________________________________\n",
      "dense_1 (Dense)              (None, 1)                 51        \n",
      "=================================================================\n",
      "Total params: 10,451\n",
      "Trainable params: 10,451\n",
      "Non-trainable params: 0\n",
      "_________________________________________________________________\n"
     ]
    }
   ],
   "source": [
    "model = Sequential()\n",
    "model.add(LSTM(50, activation='relu', input_shape=(1, 1)))\n",
    "model.add(Dense(1))\n",
    "model.compile(optimizer='adam', loss='mse', metrics=['accuracy'])\n",
    "model.summary()"
   ]
  },
  {
   "cell_type": "markdown",
   "metadata": {},
   "source": [
    "## learning process"
   ]
  },
  {
   "cell_type": "code",
   "execution_count": 32,
   "metadata": {},
   "outputs": [
    {
     "name": "stdout",
     "output_type": "stream",
     "text": [
      "Train on 720000 samples, validate on 180000 samples\n",
      "Epoch 1/20\n",
      "720000/720000 [==============================] - 254s 352us/sample - loss: 141.5159 - accuracy: 1.4722e-04 - val_loss: 86.5600 - val_accuracy: 0.0000e+00\n",
      "Epoch 2/20\n",
      "720000/720000 [==============================] - 257s 356us/sample - loss: 91.3751 - accuracy: 0.0000e+00 - val_loss: 62.8669 - val_accuracy: 0.0000e+00\n",
      "Epoch 3/20\n",
      "720000/720000 [==============================] - 263s 366us/sample - loss: 75.9392 - accuracy: 0.0000e+00 - val_loss: 55.2964 - val_accuracy: 0.0000e+00\n",
      "Epoch 4/20\n",
      "720000/720000 [==============================] - 262s 364us/sample - loss: 69.0881 - accuracy: 0.0000e+00 - val_loss: 50.2685 - val_accuracy: 0.0000e+00\n",
      "Epoch 5/20\n",
      "720000/720000 [==============================] - 263s 365us/sample - loss: 64.0921 - accuracy: 0.0000e+00 - val_loss: 47.4137 - val_accuracy: 0.0000e+00\n",
      "Epoch 6/20\n",
      "720000/720000 [==============================] - 261s 363us/sample - loss: 60.0151 - accuracy: 0.0000e+00 - val_loss: 44.7483 - val_accuracy: 0.0000e+00\n",
      "Epoch 7/20\n",
      "720000/720000 [==============================] - 262s 363us/sample - loss: 56.8793 - accuracy: 0.0000e+00 - val_loss: 44.4556 - val_accuracy: 0.0000e+00\n",
      "Epoch 8/20\n",
      "720000/720000 [==============================] - 270s 376us/sample - loss: 54.4255 - accuracy: 0.0000e+00 - val_loss: 43.3319 - val_accuracy: 0.0000e+00\n",
      "Epoch 9/20\n",
      "720000/720000 [==============================] - 259s 360us/sample - loss: 52.3641 - accuracy: 0.0000e+00 - val_loss: 43.3831 - val_accuracy: 0.0000e+00\n",
      "Epoch 10/20\n",
      "720000/720000 [==============================] - 264s 367us/sample - loss: 50.6718 - accuracy: 0.0000e+00 - val_loss: 41.5769 - val_accuracy: 0.0000e+00\n",
      "Epoch 11/20\n",
      "720000/720000 [==============================] - 264s 367us/sample - loss: 49.2297 - accuracy: 0.0000e+00 - val_loss: 42.4908 - val_accuracy: 0.0000e+00\n",
      "Epoch 12/20\n",
      "720000/720000 [==============================] - 269s 373us/sample - loss: 47.9726 - accuracy: 0.0000e+00 - val_loss: 43.2323 - val_accuracy: 0.0000e+00\n",
      "Epoch 13/20\n",
      "720000/720000 [==============================] - 265s 369us/sample - loss: 46.8488 - accuracy: 0.0000e+00 - val_loss: 40.0251 - val_accuracy: 0.0000e+00\n",
      "Epoch 14/20\n",
      "720000/720000 [==============================] - 266s 369us/sample - loss: 45.8495 - accuracy: 0.0000e+00 - val_loss: 41.2128 - val_accuracy: 0.0000e+00\n",
      "Epoch 15/20\n",
      "720000/720000 [==============================] - 266s 369us/sample - loss: 44.8937 - accuracy: 0.0000e+00 - val_loss: 40.8886 - val_accuracy: 0.0000e+00\n",
      "Epoch 16/20\n",
      "720000/720000 [==============================] - 262s 364us/sample - loss: 43.9533 - accuracy: 0.0000e+00 - val_loss: 40.3960 - val_accuracy: 0.0000e+00\n",
      "Epoch 17/20\n",
      "720000/720000 [==============================] - 273s 379us/sample - loss: 43.1812 - accuracy: 0.0000e+00 - val_loss: 37.3306 - val_accuracy: 0.0000e+00\n",
      "Epoch 18/20\n",
      "720000/720000 [==============================] - 261s 362us/sample - loss: 42.4782 - accuracy: 0.0000e+00 - val_loss: 36.6060 - val_accuracy: 0.0000e+00\n",
      "Epoch 19/20\n",
      "720000/720000 [==============================] - 267s 371us/sample - loss: 41.8365 - accuracy: 0.0000e+00 - val_loss: 36.1001 - val_accuracy: 0.0000e+00\n",
      "Epoch 20/20\n",
      "720000/720000 [==============================] - 264s 367us/sample - loss: 41.3084 - accuracy: 0.0000e+00 - val_loss: 35.8922 - val_accuracy: 0.0000e+00\n"
     ]
    },
    {
     "data": {
      "text/plain": [
       "<tensorflow.python.keras.callbacks.History at 0x225862eeda0>"
      ]
     },
     "execution_count": 32,
     "metadata": {},
     "output_type": "execute_result"
    }
   ],
   "source": [
    "model.fit(train_inputs, train_outputs, epochs=20, batch_size=5,\n",
    "          validation_data=(validation_inputs, validation_outputs))"
   ]
  },
  {
   "cell_type": "markdown",
   "metadata": {},
   "source": [
    "## prediction"
   ]
  },
  {
   "cell_type": "code",
   "execution_count": 33,
   "metadata": {},
   "outputs": [],
   "source": [
    "test_predictions = model.predict(test_inputs)"
   ]
  },
  {
   "cell_type": "markdown",
   "metadata": {},
   "source": [
    "## data formatting"
   ]
  },
  {
   "cell_type": "code",
   "execution_count": 34,
   "metadata": {},
   "outputs": [],
   "source": [
    "predictions = transform_to_list(test_predictions)\n",
    "test_inputs = transform_to_list(test_inputs)"
   ]
  },
  {
   "cell_type": "markdown",
   "metadata": {},
   "source": [
    "## result"
   ]
  },
  {
   "cell_type": "code",
   "execution_count": 37,
   "metadata": {},
   "outputs": [
    {
     "data": {
      "image/png": "[encoded data removed]",
      "text/plain": [
       "<Figure size 1080x648 with 1 Axes>"
      ]
     },
     "metadata": {
      "needs_background": "light"
     },
     "output_type": "display_data"
    }
   ],
   "source": [
    "plot_result(test_inputs, test_outputs, predictions)"
   ]
  },
  {
   "cell_type": "code",
   "execution_count": 70,
   "metadata": {},
   "outputs": [
    {
     "name": "stdout",
     "output_type": "stream",
     "text": [
      "mean absolute error: 1.054032061140612\n"
     ]
    }
   ],
   "source": [
    "statistics(test_outputs, predictions)"
   ]
  }
 ],
 "metadata": {
  "kernelspec": {
   "display_name": "Python 3.6 (tensorflow)",
   "language": "python",
   "name": "tensorflow"
  },
  "language_info": {
   "codemirror_mode": {
    "name": "ipython",
    "version": 3
   },
   "file_extension": ".py",
   "mimetype": "text/x-python",
   "name": "python",
   "nbconvert_exporter": "python",
   "pygments_lexer": "ipython3",
   "version": "3.6.10"
  }
 },
 "nbformat": 4,
 "nbformat_minor": 4
}
